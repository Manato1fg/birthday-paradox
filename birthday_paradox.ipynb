{
 "cells": [
  {
   "cell_type": "code",
   "execution_count": 1,
   "metadata": {},
   "outputs": [
    {
     "data": {
      "image/png": "[encoded data removed]",
      "text/plain": [
       "<matplotlib.figure.Figure at 0x109ccfcc0>"
      ]
     },
     "metadata": {},
     "output_type": "display_data"
    }
   ],
   "source": [
    "%matplotlib inline\n",
    "import numpy as np\n",
    "import matplotlib.pyplot as plt\n",
    "from matplotlib.font_manager import FontProperties\n",
    "\n",
    "def main():\n",
    "    #print(\"誕生日のパラドックスの検証\")\n",
    "    #print(\"文字列変換時に制度が失われるのでパーセント表示は厳密な値ではない\")\n",
    "    x = []\n",
    "    y = []\n",
    "    a = _factorial(365)\n",
    "    for i in range(365):\n",
    "        j = i + 1\n",
    "        x.append(j)\n",
    "        b = 365 ** j\n",
    "        c = _factorial(365 - j)\n",
    "        d = 1.0 - a / (b * c)\n",
    "        #print(str(j) + \"人の時に一人も誕生日が被らない確率: \"+str(d * 100)+\"％\")\n",
    "        y.append(d * 100)\n",
    "    \n",
    "    plt.plot(x, y)\n",
    "    plt.title('Birthday Paradox')\n",
    "    plt.xlabel('Number of people')\n",
    "    plt.ylabel('Probability of a pair')\n",
    "    plt.show()\n",
    "\n",
    "def factorial(x):\n",
    "    for i in range(x.size):\n",
    "        x[i] = _factorial(x[i])\n",
    "    \n",
    "    return x\n",
    "\n",
    "def _factorial(x):\n",
    "    if x == 1:\n",
    "        return 1\n",
    "    elif x != 1 and x >= 1:\n",
    "        return x * _factorial(x - 1)\n",
    "    else:\n",
    "        return 1\n",
    "\n",
    "if __name__ == '__main__':\n",
    "    main()"
   ]
  },
  {
   "cell_type": "code",
   "execution_count": null,
   "metadata": {},
   "outputs": [],
   "source": []
  }
 ],
 "metadata": {
  "kernelspec": {
   "display_name": "Python 3",
   "language": "python",
   "name": "python3"
  },
  "language_info": {
   "codemirror_mode": {
    "name": "ipython",
    "version": 3
   },
   "file_extension": ".py",
   "mimetype": "text/x-python",
   "name": "python",
   "nbconvert_exporter": "python",
   "pygments_lexer": "ipython3",
   "version": "3.6.4"
  }
 },
 "nbformat": 4,
 "nbformat_minor": 2
}
